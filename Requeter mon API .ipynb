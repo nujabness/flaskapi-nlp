{
 "cells": [
  {
   "cell_type": "code",
   "execution_count": 56,
   "metadata": {},
   "outputs": [],
   "source": [
    "import requests\n",
    "import pandas as pd\n",
    "import json\n"
   ]
  },
  {
   "cell_type": "code",
   "execution_count": 41,
   "metadata": {},
   "outputs": [
    {
     "data": {
      "text/html": [
       "<div>\n",
       "<style scoped>\n",
       "    .dataframe tbody tr th:only-of-type {\n",
       "        vertical-align: middle;\n",
       "    }\n",
       "\n",
       "    .dataframe tbody tr th {\n",
       "        vertical-align: top;\n",
       "    }\n",
       "\n",
       "    .dataframe thead th {\n",
       "        text-align: right;\n",
       "    }\n",
       "</style>\n",
       "<table border=\"1\" class=\"dataframe\">\n",
       "  <thead>\n",
       "    <tr style=\"text-align: right;\">\n",
       "      <th></th>\n",
       "      <th>date</th>\n",
       "      <th>user</th>\n",
       "      <th>rating</th>\n",
       "      <th>review</th>\n",
       "    </tr>\n",
       "  </thead>\n",
       "  <tbody>\n",
       "    <tr>\n",
       "      <th>0</th>\n",
       "      <td>Commenté en France le 9 août 2018</td>\n",
       "      <td>Justine</td>\n",
       "      <td>0.0</td>\n",
       "      <td>Le téléphone n a jamais fonctionné et Apple no...</td>\n",
       "    </tr>\n",
       "    <tr>\n",
       "      <th>1</th>\n",
       "      <td>Commenté en France le 21 juin 2018</td>\n",
       "      <td>Gouyer Eric</td>\n",
       "      <td>0.0</td>\n",
       "      <td>Soit-disant le téléphone est certifié recondit...</td>\n",
       "    </tr>\n",
       "    <tr>\n",
       "      <th>2</th>\n",
       "      <td>Commenté en France le 13 décembre 2018</td>\n",
       "      <td>Peineau A.</td>\n",
       "      <td>1.0</td>\n",
       "      <td>Reçu aujourd'hui via UPS standard, bien emball...</td>\n",
       "    </tr>\n",
       "    <tr>\n",
       "      <th>3</th>\n",
       "      <td>Commenté en France le 23 juillet 2018</td>\n",
       "      <td>Solenn Laurent</td>\n",
       "      <td>0.0</td>\n",
       "      <td>iPhone reçu, la batterie ne tient pas une jour...</td>\n",
       "    </tr>\n",
       "    <tr>\n",
       "      <th>4</th>\n",
       "      <td>Commenté en France le 1 janvier 2019</td>\n",
       "      <td>val</td>\n",
       "      <td>0.0</td>\n",
       "      <td>J’ai offert ce portable à mon fils pour Noël.....</td>\n",
       "    </tr>\n",
       "    <tr>\n",
       "      <th>...</th>\n",
       "      <td>...</td>\n",
       "      <td>...</td>\n",
       "      <td>...</td>\n",
       "      <td>...</td>\n",
       "    </tr>\n",
       "    <tr>\n",
       "      <th>1342</th>\n",
       "      <td>Commenté en France le 16 août 2020</td>\n",
       "      <td>Kasei</td>\n",
       "      <td>3.0</td>\n",
       "      <td>au bout d'une semaine, le téléphone m'indique ...</td>\n",
       "    </tr>\n",
       "    <tr>\n",
       "      <th>1343</th>\n",
       "      <td>Commenté en France le 2 juillet 2020</td>\n",
       "      <td>Josué KAZI</td>\n",
       "      <td>1.0</td>\n",
       "      <td>Produit fiable.J’ai reçu le téléphone depuis u...</td>\n",
       "    </tr>\n",
       "    <tr>\n",
       "      <th>1344</th>\n",
       "      <td>Commenté en France le 21 avril 2020</td>\n",
       "      <td>Familyismyreligion</td>\n",
       "      <td>1.0</td>\n",
       "      <td>Livraison très rapide, plus rapide que prévu e...</td>\n",
       "    </tr>\n",
       "    <tr>\n",
       "      <th>1345</th>\n",
       "      <td>Commenté en France le 21 septembre 2019</td>\n",
       "      <td>charret</td>\n",
       "      <td>3.0</td>\n",
       "      <td>la batterie se décharge très vite .</td>\n",
       "    </tr>\n",
       "    <tr>\n",
       "      <th>1346</th>\n",
       "      <td>Commenté en France le 26 août 2020</td>\n",
       "      <td>Fatna</td>\n",
       "      <td>3.0</td>\n",
       "      <td>Bonjour le chargeur était défectueux et ne fon...</td>\n",
       "    </tr>\n",
       "  </tbody>\n",
       "</table>\n",
       "<p>1347 rows × 4 columns</p>\n",
       "</div>"
      ],
      "text/plain": [
       "                                         date                user  rating  \\\n",
       "0           Commenté en France le 9 août 2018             Justine     0.0   \n",
       "1          Commenté en France le 21 juin 2018         Gouyer Eric     0.0   \n",
       "2      Commenté en France le 13 décembre 2018          Peineau A.     1.0   \n",
       "3       Commenté en France le 23 juillet 2018      Solenn Laurent     0.0   \n",
       "4        Commenté en France le 1 janvier 2019                 val     0.0   \n",
       "...                                       ...                 ...     ...   \n",
       "1342       Commenté en France le 16 août 2020               Kasei     3.0   \n",
       "1343     Commenté en France le 2 juillet 2020          Josué KAZI     1.0   \n",
       "1344      Commenté en France le 21 avril 2020  Familyismyreligion     1.0   \n",
       "1345  Commenté en France le 21 septembre 2019             charret     3.0   \n",
       "1346       Commenté en France le 26 août 2020               Fatna     3.0   \n",
       "\n",
       "                                                 review  \n",
       "0     Le téléphone n a jamais fonctionné et Apple no...  \n",
       "1     Soit-disant le téléphone est certifié recondit...  \n",
       "2     Reçu aujourd'hui via UPS standard, bien emball...  \n",
       "3     iPhone reçu, la batterie ne tient pas une jour...  \n",
       "4     J’ai offert ce portable à mon fils pour Noël.....  \n",
       "...                                                 ...  \n",
       "1342  au bout d'une semaine, le téléphone m'indique ...  \n",
       "1343  Produit fiable.J’ai reçu le téléphone depuis u...  \n",
       "1344  Livraison très rapide, plus rapide que prévu e...  \n",
       "1345                la batterie se décharge très vite .  \n",
       "1346  Bonjour le chargeur était défectueux et ne fon...  \n",
       "\n",
       "[1347 rows x 4 columns]"
      ]
     },
     "execution_count": 41,
     "metadata": {},
     "output_type": "execute_result"
    }
   ],
   "source": [
    "df=pd.read_csv('corpus.csv')\n",
    "\n",
    "df.loc[(df.rating < 3),'rating']=0\n",
    "df.loc[(df.rating>3),'rating']=1\n",
    "\n",
    "y = df['rating']\n",
    "df"
   ]
  },
  {
   "cell_type": "code",
   "execution_count": 13,
   "metadata": {},
   "outputs": [
    {
     "data": {
      "text/plain": [
       "{'text_user': 'Je suis vraiment content de cet article'}"
      ]
     },
     "execution_count": 13,
     "metadata": {},
     "output_type": "execute_result"
    }
   ],
   "source": [
    "route='/result'\n",
    "url='http://127.0.0.1:5000'+route\n",
    "\n",
    "param={'input_text':'Je suis vraiment content de cet article'}\n",
    "r=requests.post(url,data=param)\n",
    "r.json()"
   ]
  },
  {
   "cell_type": "code",
   "execution_count": 36,
   "metadata": {},
   "outputs": [
    {
     "data": {
      "text/plain": [
       "{'Le texte est': 'Négatif'}"
      ]
     },
     "execution_count": 36,
     "metadata": {},
     "output_type": "execute_result"
    }
   ],
   "source": [
    "route='/prediction'\n",
    "url='http://127.0.0.1:5000'+route\n",
    "param={'input_text':'j aime vraiment pas le produit est mauvais' }\n",
    "r=requests.post(url,data=param)\n",
    "r.json()"
   ]
  },
  {
   "cell_type": "code",
   "execution_count": 69,
   "metadata": {},
   "outputs": [
    {
     "data": {
      "text/plain": [
       "{'Le training est fini le score est de: ': 0.8851851851851852}"
      ]
     },
     "execution_count": 69,
     "metadata": {},
     "output_type": "execute_result"
    }
   ],
   "source": [
    "route='/entrainement'\n",
    "url='http://127.0.0.1:5000'+route\n",
    "r=requests.post(url)\n",
    "r.json()"
   ]
  },
  {
   "cell_type": "code",
   "execution_count": null,
   "metadata": {},
   "outputs": [],
   "source": []
  }
 ],
 "metadata": {
  "kernelspec": {
   "display_name": "Python 3",
   "language": "python",
   "name": "python3"
  },
  "language_info": {
   "codemirror_mode": {
    "name": "ipython",
    "version": 3
   },
   "file_extension": ".py",
   "mimetype": "text/x-python",
   "name": "python",
   "nbconvert_exporter": "python",
   "pygments_lexer": "ipython3",
   "version": "3.8.3"
  }
 },
 "nbformat": 4,
 "nbformat_minor": 2
}
